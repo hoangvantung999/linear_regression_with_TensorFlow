{
 "cells": [
  {
   "cell_type": "code",
   "execution_count": 5,
   "metadata": {},
   "outputs": [],
   "source": [
    "import pandas as pd\n",
    "import re\n",
    "import numpy as np\n",
    "from pyvi import ViTokenizer, ViPosTagger\n",
    "from underthesea import word_tokenize\n",
    "from sklearn.model_selection import train_test_split\n",
    "from sklearn.metrics import accuracy_score, classification_report\n",
    "from sklearn.feature_extraction.text import CountVectorizer,TfidfTransformer"
   ]
  },
  {
   "cell_type": "code",
   "execution_count": 6,
   "metadata": {},
   "outputs": [],
   "source": [
    "data = pd.read_csv('data5Sample.csv')"
   ]
  },
  {
   "cell_type": "code",
   "execution_count": 7,
   "metadata": {},
   "outputs": [
    {
     "data": {
      "text/html": [
       "<div>\n",
       "<style scoped>\n",
       "    .dataframe tbody tr th:only-of-type {\n",
       "        vertical-align: middle;\n",
       "    }\n",
       "\n",
       "    .dataframe tbody tr th {\n",
       "        vertical-align: top;\n",
       "    }\n",
       "\n",
       "    .dataframe thead th {\n",
       "        text-align: right;\n",
       "    }\n",
       "</style>\n",
       "<table border=\"1\" class=\"dataframe\">\n",
       "  <thead>\n",
       "    <tr style=\"text-align: right;\">\n",
       "      <th></th>\n",
       "      <th>Unnamed: 0</th>\n",
       "      <th>question</th>\n",
       "      <th>target</th>\n",
       "      <th>answer</th>\n",
       "      <th>target_enc</th>\n",
       "      <th>count</th>\n",
       "    </tr>\n",
       "  </thead>\n",
       "  <tbody>\n",
       "    <tr>\n",
       "      <th>0</th>\n",
       "      <td>0</td>\n",
       "      <td>có mấy bước để thêm domain cho google blog vậy...</td>\n",
       "      <td>add_domain_cho_blog_google</td>\n",
       "      <td>Bước 1: Đăng nhập domain.tenten.vn\\n- Add thêm...</td>\n",
       "      <td>0</td>\n",
       "      <td>5</td>\n",
       "    </tr>\n",
       "    <tr>\n",
       "      <th>1</th>\n",
       "      <td>1</td>\n",
       "      <td>bạn có thể hướng dẫn giúp mình cách thêm domai...</td>\n",
       "      <td>add_domain_cho_blog_google</td>\n",
       "      <td>Bước 1: Đăng nhập domain.tenten.vn\\n- Add thêm...</td>\n",
       "      <td>0</td>\n",
       "      <td>5</td>\n",
       "    </tr>\n",
       "    <tr>\n",
       "      <th>2</th>\n",
       "      <td>2</td>\n",
       "      <td>mình phải tự thêm domain google blog hay bạn t...</td>\n",
       "      <td>add_domain_cho_blog_google</td>\n",
       "      <td>Bước 1: Đăng nhập domain.tenten.vn\\n- Add thêm...</td>\n",
       "      <td>0</td>\n",
       "      <td>5</td>\n",
       "    </tr>\n",
       "    <tr>\n",
       "      <th>3</th>\n",
       "      <td>3</td>\n",
       "      <td>các bước để thêm domain cho blog google như th...</td>\n",
       "      <td>add_domain_cho_blog_google</td>\n",
       "      <td>Bước 1: Đăng nhập domain.tenten.vn\\n- Add thêm...</td>\n",
       "      <td>0</td>\n",
       "      <td>5</td>\n",
       "    </tr>\n",
       "    <tr>\n",
       "      <th>4</th>\n",
       "      <td>4</td>\n",
       "      <td>Add domain cho blog google</td>\n",
       "      <td>add_domain_cho_blog_google</td>\n",
       "      <td>Bước 1: Đăng nhập domain.tenten.vn\\n- Add thêm...</td>\n",
       "      <td>0</td>\n",
       "      <td>5</td>\n",
       "    </tr>\n",
       "  </tbody>\n",
       "</table>\n",
       "</div>"
      ],
      "text/plain": [
       "   Unnamed: 0                                           question  \\\n",
       "0           0  có mấy bước để thêm domain cho google blog vậy...   \n",
       "1           1  bạn có thể hướng dẫn giúp mình cách thêm domai...   \n",
       "2           2  mình phải tự thêm domain google blog hay bạn t...   \n",
       "3           3  các bước để thêm domain cho blog google như th...   \n",
       "4           4                         Add domain cho blog google   \n",
       "\n",
       "                       target  \\\n",
       "0  add_domain_cho_blog_google   \n",
       "1  add_domain_cho_blog_google   \n",
       "2  add_domain_cho_blog_google   \n",
       "3  add_domain_cho_blog_google   \n",
       "4  add_domain_cho_blog_google   \n",
       "\n",
       "                                              answer  target_enc  count  \n",
       "0  Bước 1: Đăng nhập domain.tenten.vn\\n- Add thêm...           0      5  \n",
       "1  Bước 1: Đăng nhập domain.tenten.vn\\n- Add thêm...           0      5  \n",
       "2  Bước 1: Đăng nhập domain.tenten.vn\\n- Add thêm...           0      5  \n",
       "3  Bước 1: Đăng nhập domain.tenten.vn\\n- Add thêm...           0      5  \n",
       "4  Bước 1: Đăng nhập domain.tenten.vn\\n- Add thêm...           0      5  "
      ]
     },
     "execution_count": 7,
     "metadata": {},
     "output_type": "execute_result"
    }
   ],
   "source": [
    "data.head()"
   ]
  },
  {
   "cell_type": "code",
   "execution_count": 8,
   "metadata": {},
   "outputs": [],
   "source": [
    "X = data['question']\n",
    "y = data['target_enc']"
   ]
  },
  {
   "cell_type": "code",
   "execution_count": 9,
   "metadata": {},
   "outputs": [],
   "source": [
    "# split data into Xtrain, Xtest, ytrain, ytest\n",
    "Xtrain,Xtest,ytrain,ytest = train_test_split(X,y,test_size=0.3,random_state=42)"
   ]
  },
  {
   "cell_type": "code",
   "execution_count": 10,
   "metadata": {},
   "outputs": [],
   "source": [
    "def transform_row(row):\n",
    "  \n",
    "    # Xóa số dòng ở đầu câu\n",
    "    row = re.sub(r\"^[0-9\\.]+\", \"\", row)\n",
    "    \n",
    "    # Xóa dấu chấm, phẩy, hỏi ở cuối câu\n",
    "    row = re.sub(r\"[\\.,\\?]+$\", \"\", row)\n",
    "    \n",
    "    # Xóa tất cả dấu chấm, phẩy, chấm phẩy, chấm thang, ... trong câu\n",
    "    row = row.replace(\",\", \" \").replace(\".\", \" \") \\\n",
    "        .replace(\";\", \" \").replace(\"“\", \" \") \\\n",
    "        .replace(\":\", \" \").replace(\"”\", \" \") \\\n",
    "        .replace('\"', \" \").replace(\"'\", \" \") \\\n",
    "        .replace(\"!\", \" \").replace(\"?\", \" \") \\\n",
    "        .replace(\"/\", \" \")\n",
    "    row = row.lower()\n",
    "    row = row.strip()\n",
    "    return row "
   ]
  },
  {
   "cell_type": "code",
   "execution_count": 11,
   "metadata": {},
   "outputs": [],
   "source": [
    "def word_segment(word_segment_lib, df_data):\n",
    "    if word_segment_lib == 'underthesea':\n",
    "        transformer_result = df_data.apply(lambda text: word_tokenize(text, format='text'))\n",
    "    else:\n",
    "        transformer_result = df_data.apply(lambda text: ViTokenizer.tokenize(text))\n",
    "    return transformer_result"
   ]
  },
  {
   "cell_type": "code",
   "execution_count": 12,
   "metadata": {},
   "outputs": [],
   "source": [
    "def bag_of_word(train_data):\n",
    "    vectorizer = CountVectorizer()\n",
    "    vectorizer = vectorizer.fit(train_data)\n",
    "    vectorizer_train_data = vectorizer.transform(train_data)\n",
    "    return vectorizer,vectorizer_train_data"
   ]
  },
  {
   "cell_type": "code",
   "execution_count": 13,
   "metadata": {},
   "outputs": [],
   "source": [
    "def ifidf_transformer(data):\n",
    "    tf_idf_model = TfidfTransformer(use_idf=False).fit(data)\n",
    "    tf_idf_data  = tf_idf_model.transform(data)\n",
    "    return tf_idf_model,tf_idf_data"
   ]
  },
  {
   "cell_type": "code",
   "execution_count": 14,
   "metadata": {},
   "outputs": [],
   "source": [
    "def evaluation(clf,tf_idf_test_data,test_data_y):\n",
    "    # predicted\n",
    "    y_predicted = clf.predict(tf_idf_test_data)\n",
    "    \n",
    "    # accuracy score\n",
    "    accuracy = accuracy_score(test_data_y,y_predicted)\n",
    "    \n",
    "    # precision\n",
    "    \n",
    "    classification = classification_report(test_data_y,y_predicted,output_dict=False)\n",
    "    return y_predicted,accuracy,classification"
   ]
  },
  {
   "cell_type": "markdown",
   "metadata": {},
   "source": [
    "### Handle to train data"
   ]
  },
  {
   "cell_type": "code",
   "execution_count": 15,
   "metadata": {},
   "outputs": [],
   "source": [
    "# transform row train data\n",
    "Xtrain = Xtrain.apply(transform_row)"
   ]
  },
  {
   "cell_type": "code",
   "execution_count": 16,
   "metadata": {},
   "outputs": [
    {
     "data": {
      "text/plain": [
       "377                           dịch vụ email theo tên miền\n",
       "286     trong trường hợp nào thì mình sử dụng được gói...\n",
       "1473                tôi có thể thuê hosting ở đâu vậy bạn\n",
       "755     bạn có thể giúp mình cách cài đặt lại os được ...\n",
       "126     mình có thể biết thêm về cấu trúc tên miền ở đ...\n",
       "Name: question, dtype: object"
      ]
     },
     "execution_count": 16,
     "metadata": {},
     "output_type": "execute_result"
    }
   ],
   "source": [
    "Xtrain.head(5)"
   ]
  },
  {
   "cell_type": "code",
   "execution_count": 17,
   "metadata": {},
   "outputs": [],
   "source": [
    "# word_segment data\n",
    "Xtrain_word_segment = word_segment('pyvi',Xtrain)"
   ]
  },
  {
   "cell_type": "code",
   "execution_count": 18,
   "metadata": {},
   "outputs": [],
   "source": [
    "# vectorize data \n",
    "vectorizer,vectorizer_train_data = bag_of_word(Xtrain_word_segment)"
   ]
  },
  {
   "cell_type": "code",
   "execution_count": 19,
   "metadata": {},
   "outputs": [],
   "source": [
    "# tfidf vectorize train data: model tfidf and ifidf train\n",
    "tf_idf_model,tf_idf_data_train = ifidf_transformer(vectorizer_train_data)"
   ]
  },
  {
   "cell_type": "markdown",
   "metadata": {},
   "source": [
    "## Handle to test data\n"
   ]
  },
  {
   "cell_type": "code",
   "execution_count": 20,
   "metadata": {},
   "outputs": [],
   "source": [
    "# transform row train data\n",
    "Xtest = Xtest.apply(transform_row)"
   ]
  },
  {
   "cell_type": "code",
   "execution_count": 21,
   "metadata": {},
   "outputs": [],
   "source": [
    "# word segment data\n",
    "Xtest_word_segment = word_segment('pyvi',Xtest)"
   ]
  },
  {
   "cell_type": "code",
   "execution_count": 22,
   "metadata": {},
   "outputs": [],
   "source": [
    "# vectorize data\n",
    "vectorizer_test_data = vectorizer.transform(Xtest_word_segment)"
   ]
  },
  {
   "cell_type": "code",
   "execution_count": 23,
   "metadata": {},
   "outputs": [],
   "source": [
    "# tfidf vectorize test data: model tfidf and ifidf test\n",
    "tf_idf_data_test = tf_idf_model.transform(vectorizer_test_data)"
   ]
  },
  {
   "cell_type": "markdown",
   "metadata": {},
   "source": [
    "## Train model SGD"
   ]
  },
  {
   "cell_type": "code",
   "execution_count": 24,
   "metadata": {},
   "outputs": [],
   "source": [
    "# Select model and initial model\n",
    "from sklearn import linear_model\n",
    "clf = linear_model.SGDClassifier(\n",
    "                                alpha=0.001,\n",
    "                                l1_ratio=0,\n",
    "                                loss='modified_huber',\n",
    "                                max_iter= 100,\n",
    "                                random_state=1,\n",
    "                                tol=0.001\n",
    "                                  )"
   ]
  },
  {
   "cell_type": "code",
   "execution_count": 25,
   "metadata": {},
   "outputs": [
    {
     "data": {
      "text/plain": [
       "SGDClassifier(alpha=0.001, average=False, class_weight=None,\n",
       "       early_stopping=False, epsilon=0.1, eta0=0.0, fit_intercept=True,\n",
       "       l1_ratio=0, learning_rate='optimal', loss='modified_huber',\n",
       "       max_iter=100, n_iter=None, n_iter_no_change=5, n_jobs=None,\n",
       "       penalty='l2', power_t=0.5, random_state=1, shuffle=True, tol=0.001,\n",
       "       validation_fraction=0.1, verbose=0, warm_start=False)"
      ]
     },
     "execution_count": 25,
     "metadata": {},
     "output_type": "execute_result"
    }
   ],
   "source": [
    "# fit model\n",
    "clf.fit(tf_idf_data_train,ytrain)"
   ]
  },
  {
   "cell_type": "code",
   "execution_count": 26,
   "metadata": {},
   "outputs": [
    {
     "name": "stderr",
     "output_type": "stream",
     "text": [
      "C:\\Users\\Thanhtung\\Anaconda3\\lib\\site-packages\\sklearn\\metrics\\classification.py:1143: UndefinedMetricWarning: Precision and F-score are ill-defined and being set to 0.0 in labels with no predicted samples.\n",
      "  'precision', 'predicted', average, warn_for)\n",
      "C:\\Users\\Thanhtung\\Anaconda3\\lib\\site-packages\\sklearn\\metrics\\classification.py:1145: UndefinedMetricWarning: Recall and F-score are ill-defined and being set to 0.0 in labels with no true samples.\n",
      "  'recall', 'true', average, warn_for)\n"
     ]
    }
   ],
   "source": [
    "# evaluation model\n",
    "y_predicted, accuracy, classification = evaluation(clf,tf_idf_data_test,ytest)"
   ]
  },
  {
   "cell_type": "code",
   "execution_count": 27,
   "metadata": {},
   "outputs": [
    {
     "name": "stdout",
     "output_type": "stream",
     "text": [
      "0.8047722342733189\n"
     ]
    }
   ],
   "source": [
    "print(accuracy)"
   ]
  },
  {
   "cell_type": "markdown",
   "metadata": {},
   "source": [
    "# I. Create dataframe"
   ]
  },
  {
   "cell_type": "code",
   "execution_count": 28,
   "metadata": {},
   "outputs": [],
   "source": [
    "# convert Xtrain,Xtest,ytrain,ytest to array\n",
    "Xtrain_array = np.asarray(Xtrain)\n",
    "Xtest_array = np.asarray(Xtest)\n",
    "ytrain_array = np.asarray(ytrain)\n",
    "ytest_array = np.asarray(ytest)"
   ]
  },
  {
   "cell_type": "markdown",
   "metadata": {},
   "source": [
    "## 1. Create dataframe Train_X_y and dataset\n",
    "\n",
    "\n"
   ]
  },
  {
   "cell_type": "code",
   "execution_count": 29,
   "metadata": {},
   "outputs": [],
   "source": [
    "# create dataframe dataset\n",
    "dataset = pd.DataFrame({'questionTest':Xtest_array,'true_label':ytest_array, 'predicted_label':y_predicted})"
   ]
  },
  {
   "cell_type": "code",
   "execution_count": 30,
   "metadata": {},
   "outputs": [
    {
     "data": {
      "text/html": [
       "<div>\n",
       "<style scoped>\n",
       "    .dataframe tbody tr th:only-of-type {\n",
       "        vertical-align: middle;\n",
       "    }\n",
       "\n",
       "    .dataframe tbody tr th {\n",
       "        vertical-align: top;\n",
       "    }\n",
       "\n",
       "    .dataframe thead th {\n",
       "        text-align: right;\n",
       "    }\n",
       "</style>\n",
       "<table border=\"1\" class=\"dataframe\">\n",
       "  <thead>\n",
       "    <tr style=\"text-align: right;\">\n",
       "      <th></th>\n",
       "      <th>questionTest</th>\n",
       "      <th>true_label</th>\n",
       "      <th>predicted_label</th>\n",
       "    </tr>\n",
       "  </thead>\n",
       "  <tbody>\n",
       "    <tr>\n",
       "      <th>0</th>\n",
       "      <td>tên miền</td>\n",
       "      <td>185</td>\n",
       "      <td>185</td>\n",
       "    </tr>\n",
       "    <tr>\n",
       "      <th>1</th>\n",
       "      <td>cài os như thế nào vậy</td>\n",
       "      <td>11</td>\n",
       "      <td>11</td>\n",
       "    </tr>\n",
       "    <tr>\n",
       "      <th>2</th>\n",
       "      <td>vps của tenten có đặc điểm gì</td>\n",
       "      <td>51</td>\n",
       "      <td>51</td>\n",
       "    </tr>\n",
       "    <tr>\n",
       "      <th>3</th>\n",
       "      <td>quên mật khẩu</td>\n",
       "      <td>167</td>\n",
       "      <td>167</td>\n",
       "    </tr>\n",
       "    <tr>\n",
       "      <th>4</th>\n",
       "      <td>tôi có thể xem trạng thái tài khoản của tôi bằ...</td>\n",
       "      <td>217</td>\n",
       "      <td>217</td>\n",
       "    </tr>\n",
       "  </tbody>\n",
       "</table>\n",
       "</div>"
      ],
      "text/plain": [
       "                                        questionTest  true_label  \\\n",
       "0                                           tên miền         185   \n",
       "1                             cài os như thế nào vậy          11   \n",
       "2                      vps của tenten có đặc điểm gì          51   \n",
       "3                                      quên mật khẩu         167   \n",
       "4  tôi có thể xem trạng thái tài khoản của tôi bằ...         217   \n",
       "\n",
       "   predicted_label  \n",
       "0              185  \n",
       "1               11  \n",
       "2               51  \n",
       "3              167  \n",
       "4              217  "
      ]
     },
     "execution_count": 30,
     "metadata": {},
     "output_type": "execute_result"
    }
   ],
   "source": [
    "dataset.head()"
   ]
  },
  {
   "cell_type": "code",
   "execution_count": 31,
   "metadata": {},
   "outputs": [],
   "source": [
    "# take the values of two columns that difference\n",
    "dataset['compare'] = np.where(dataset['true_label'] != dataset['predicted_label'],dataset['true_label'],np.nan)"
   ]
  },
  {
   "cell_type": "code",
   "execution_count": 32,
   "metadata": {},
   "outputs": [
    {
     "data": {
      "text/html": [
       "<div>\n",
       "<style scoped>\n",
       "    .dataframe tbody tr th:only-of-type {\n",
       "        vertical-align: middle;\n",
       "    }\n",
       "\n",
       "    .dataframe tbody tr th {\n",
       "        vertical-align: top;\n",
       "    }\n",
       "\n",
       "    .dataframe thead th {\n",
       "        text-align: right;\n",
       "    }\n",
       "</style>\n",
       "<table border=\"1\" class=\"dataframe\">\n",
       "  <thead>\n",
       "    <tr style=\"text-align: right;\">\n",
       "      <th></th>\n",
       "      <th>questionTest</th>\n",
       "      <th>true_label</th>\n",
       "      <th>predicted_label</th>\n",
       "      <th>compare</th>\n",
       "    </tr>\n",
       "  </thead>\n",
       "  <tbody>\n",
       "    <tr>\n",
       "      <th>0</th>\n",
       "      <td>tên miền</td>\n",
       "      <td>185</td>\n",
       "      <td>185</td>\n",
       "      <td>NaN</td>\n",
       "    </tr>\n",
       "    <tr>\n",
       "      <th>1</th>\n",
       "      <td>cài os như thế nào vậy</td>\n",
       "      <td>11</td>\n",
       "      <td>11</td>\n",
       "      <td>NaN</td>\n",
       "    </tr>\n",
       "    <tr>\n",
       "      <th>2</th>\n",
       "      <td>vps của tenten có đặc điểm gì</td>\n",
       "      <td>51</td>\n",
       "      <td>51</td>\n",
       "      <td>NaN</td>\n",
       "    </tr>\n",
       "    <tr>\n",
       "      <th>3</th>\n",
       "      <td>quên mật khẩu</td>\n",
       "      <td>167</td>\n",
       "      <td>167</td>\n",
       "      <td>NaN</td>\n",
       "    </tr>\n",
       "    <tr>\n",
       "      <th>4</th>\n",
       "      <td>tôi có thể xem trạng thái tài khoản của tôi bằ...</td>\n",
       "      <td>217</td>\n",
       "      <td>217</td>\n",
       "      <td>NaN</td>\n",
       "    </tr>\n",
       "  </tbody>\n",
       "</table>\n",
       "</div>"
      ],
      "text/plain": [
       "                                        questionTest  true_label  \\\n",
       "0                                           tên miền         185   \n",
       "1                             cài os như thế nào vậy          11   \n",
       "2                      vps của tenten có đặc điểm gì          51   \n",
       "3                                      quên mật khẩu         167   \n",
       "4  tôi có thể xem trạng thái tài khoản của tôi bằ...         217   \n",
       "\n",
       "   predicted_label  compare  \n",
       "0              185      NaN  \n",
       "1               11      NaN  \n",
       "2               51      NaN  \n",
       "3              167      NaN  \n",
       "4              217      NaN  "
      ]
     },
     "execution_count": 32,
     "metadata": {},
     "output_type": "execute_result"
    }
   ],
   "source": [
    "dataset.head()"
   ]
  },
  {
   "cell_type": "code",
   "execution_count": 33,
   "metadata": {},
   "outputs": [],
   "source": [
    "\n",
    "dataset = dataset.dropna()"
   ]
  },
  {
   "cell_type": "code",
   "execution_count": 34,
   "metadata": {},
   "outputs": [],
   "source": [
    "# create dataframe Train_X_y\n",
    "Train_X_y = pd.DataFrame({'Question_Train':Xtrain_array,'true_label':ytrain})"
   ]
  },
  {
   "cell_type": "markdown",
   "metadata": {},
   "source": [
    "## Merge two dataframe"
   ]
  },
  {
   "cell_type": "code",
   "execution_count": 35,
   "metadata": {},
   "outputs": [],
   "source": [
    "# Dataframe true\n",
    "dataframe_true = pd.merge(dataset,Train_X_y,on=['true_label'])"
   ]
  },
  {
   "cell_type": "code",
   "execution_count": 36,
   "metadata": {},
   "outputs": [],
   "source": [
    "# Arrange values\n",
    "dataframe_true = dataframe_true.sort_values(by='true_label')"
   ]
  },
  {
   "cell_type": "code",
   "execution_count": 37,
   "metadata": {},
   "outputs": [],
   "source": [
    "# create dataframe Train_X_y\n",
    "Train_X_y = pd.DataFrame({'Question_Train':Xtrain_array,'predicted_label':ytrain})"
   ]
  },
  {
   "cell_type": "code",
   "execution_count": 44,
   "metadata": {},
   "outputs": [
    {
     "data": {
      "text/html": [
       "<div>\n",
       "<style scoped>\n",
       "    .dataframe tbody tr th:only-of-type {\n",
       "        vertical-align: middle;\n",
       "    }\n",
       "\n",
       "    .dataframe tbody tr th {\n",
       "        vertical-align: top;\n",
       "    }\n",
       "\n",
       "    .dataframe thead th {\n",
       "        text-align: right;\n",
       "    }\n",
       "</style>\n",
       "<table border=\"1\" class=\"dataframe\">\n",
       "  <thead>\n",
       "    <tr style=\"text-align: right;\">\n",
       "      <th></th>\n",
       "      <th>questionTest</th>\n",
       "      <th>true_label</th>\n",
       "      <th>predicted_label</th>\n",
       "      <th>compare</th>\n",
       "      <th>Question_Train_True</th>\n",
       "      <th>transformer_questionTest</th>\n",
       "      <th>Transform_Question_Train_True</th>\n",
       "    </tr>\n",
       "  </thead>\n",
       "  <tbody>\n",
       "    <tr>\n",
       "      <th>132</th>\n",
       "      <td>buy domain</td>\n",
       "      <td>6</td>\n",
       "      <td>185</td>\n",
       "      <td>6.0</td>\n",
       "      <td>i want a domain</td>\n",
       "      <td>buy domain</td>\n",
       "      <td>i want a domain</td>\n",
       "    </tr>\n",
       "    <tr>\n",
       "      <th>133</th>\n",
       "      <td>buy domain</td>\n",
       "      <td>6</td>\n",
       "      <td>185</td>\n",
       "      <td>6.0</td>\n",
       "      <td>i want a domain for my website</td>\n",
       "      <td>buy domain</td>\n",
       "      <td>i want a domain for my website</td>\n",
       "    </tr>\n",
       "    <tr>\n",
       "      <th>426</th>\n",
       "      <td>tenten còn cung cấp thêm về dịch vụ gì nữa ạ</td>\n",
       "      <td>8</td>\n",
       "      <td>221</td>\n",
       "      <td>8.0</td>\n",
       "      <td>bên tenten cung cấp các gói dịch vụ gì</td>\n",
       "      <td>tenten còn cung_cấp thêm về dịch_vụ gì nữa ạ</td>\n",
       "      <td>bên tenten cung_cấp các gói dịch_vụ gì</td>\n",
       "    </tr>\n",
       "    <tr>\n",
       "      <th>427</th>\n",
       "      <td>tenten còn cung cấp thêm về dịch vụ gì nữa ạ</td>\n",
       "      <td>8</td>\n",
       "      <td>221</td>\n",
       "      <td>8.0</td>\n",
       "      <td>các loại dịch vụ của tenten</td>\n",
       "      <td>tenten còn cung_cấp thêm về dịch_vụ gì nữa ạ</td>\n",
       "      <td>các loại dịch_vụ của tenten</td>\n",
       "    </tr>\n",
       "    <tr>\n",
       "      <th>428</th>\n",
       "      <td>tenten còn cung cấp thêm về dịch vụ gì nữa ạ</td>\n",
       "      <td>8</td>\n",
       "      <td>221</td>\n",
       "      <td>8.0</td>\n",
       "      <td>các gói dịch vụ mà tenten có là gì</td>\n",
       "      <td>tenten còn cung_cấp thêm về dịch_vụ gì nữa ạ</td>\n",
       "      <td>các gói dịch_vụ mà tenten có là gì</td>\n",
       "    </tr>\n",
       "  </tbody>\n",
       "</table>\n",
       "</div>"
      ],
      "text/plain": [
       "                                     questionTest  true_label  \\\n",
       "132                                    buy domain           6   \n",
       "133                                    buy domain           6   \n",
       "426  tenten còn cung cấp thêm về dịch vụ gì nữa ạ           8   \n",
       "427  tenten còn cung cấp thêm về dịch vụ gì nữa ạ           8   \n",
       "428  tenten còn cung cấp thêm về dịch vụ gì nữa ạ           8   \n",
       "\n",
       "     predicted_label  compare                     Question_Train_True  \\\n",
       "132              185      6.0                         i want a domain   \n",
       "133              185      6.0          i want a domain for my website   \n",
       "426              221      8.0  bên tenten cung cấp các gói dịch vụ gì   \n",
       "427              221      8.0             các loại dịch vụ của tenten   \n",
       "428              221      8.0      các gói dịch vụ mà tenten có là gì   \n",
       "\n",
       "                         transformer_questionTest  \\\n",
       "132                                    buy domain   \n",
       "133                                    buy domain   \n",
       "426  tenten còn cung_cấp thêm về dịch_vụ gì nữa ạ   \n",
       "427  tenten còn cung_cấp thêm về dịch_vụ gì nữa ạ   \n",
       "428  tenten còn cung_cấp thêm về dịch_vụ gì nữa ạ   \n",
       "\n",
       "              Transform_Question_Train_True  \n",
       "132                         i want a domain  \n",
       "133          i want a domain for my website  \n",
       "426  bên tenten cung_cấp các gói dịch_vụ gì  \n",
       "427             các loại dịch_vụ của tenten  \n",
       "428      các gói dịch_vụ mà tenten có là gì  "
      ]
     },
     "execution_count": 44,
     "metadata": {},
     "output_type": "execute_result"
    }
   ],
   "source": [
    "# change column name: \n",
    "dataframe_true = dataframe_true.rename(columns={'Question_Train':'Question_Train_True'})\n",
    "# add a new column\n",
    "dataframe_true['transformer_questionTest'] = dataframe_true['questionTest'].apply(lambda text: word_tokenize(text, format='text'))\n",
    "\n",
    "dataframe_true['Transform_Question_Train_True'] = dataframe_true['Question_Train_True'].apply(lambda text: word_tokenize(text,format='text'))\n",
    "# save to file excel\n",
    "dataframe_true.to_excel('dataframe_true_SGD.xlsx')\n",
    "\n",
    "dataframe_true.head()\n"
   ]
  },
  {
   "cell_type": "code",
   "execution_count": 41,
   "metadata": {},
   "outputs": [],
   "source": [
    "# Dataframe predicted\n",
    "dataframe_predicted = pd.merge(dataset,Train_X_y,on=['predicted_label'])"
   ]
  },
  {
   "cell_type": "code",
   "execution_count": 45,
   "metadata": {},
   "outputs": [
    {
     "data": {
      "text/html": [
       "<div>\n",
       "<style scoped>\n",
       "    .dataframe tbody tr th:only-of-type {\n",
       "        vertical-align: middle;\n",
       "    }\n",
       "\n",
       "    .dataframe tbody tr th {\n",
       "        vertical-align: top;\n",
       "    }\n",
       "\n",
       "    .dataframe thead th {\n",
       "        text-align: right;\n",
       "    }\n",
       "</style>\n",
       "<table border=\"1\" class=\"dataframe\">\n",
       "  <thead>\n",
       "    <tr style=\"text-align: right;\">\n",
       "      <th></th>\n",
       "      <th>questionTest</th>\n",
       "      <th>true_label</th>\n",
       "      <th>predicted_label</th>\n",
       "      <th>compare</th>\n",
       "      <th>Question_Train_Predicted</th>\n",
       "      <th>transformer_questionTest</th>\n",
       "      <th>Transform_Question_Train_Predicted</th>\n",
       "    </tr>\n",
       "  </thead>\n",
       "  <tbody>\n",
       "    <tr>\n",
       "      <th>0</th>\n",
       "      <td>web mình bị sao ý nhỉ</td>\n",
       "      <td>238</td>\n",
       "      <td>237</td>\n",
       "      <td>238.0</td>\n",
       "      <td>nếu không dùng web hosting có bị sao không</td>\n",
       "      <td>web mình bị sao ý nhỉ</td>\n",
       "      <td>tôi vào trang_web nó cứ quay_tít là thế_nào nhỉ</td>\n",
       "    </tr>\n",
       "    <tr>\n",
       "      <th>1</th>\n",
       "      <td>web mình bị sao ý nhỉ</td>\n",
       "      <td>238</td>\n",
       "      <td>237</td>\n",
       "      <td>238.0</td>\n",
       "      <td>mình có thể tìm  thêm thông tin về web hosting...</td>\n",
       "      <td>web mình bị sao ý nhỉ</td>\n",
       "      <td>vào web chậm quá</td>\n",
       "    </tr>\n",
       "    <tr>\n",
       "      <th>2</th>\n",
       "      <td>web mình bị sao ý nhỉ</td>\n",
       "      <td>238</td>\n",
       "      <td>237</td>\n",
       "      <td>238.0</td>\n",
       "      <td>web hosting có là nơi lưu trữ thông tin phải k...</td>\n",
       "      <td>web mình bị sao ý nhỉ</td>\n",
       "      <td>sao hôm_nay vào web lâu vậy</td>\n",
       "    </tr>\n",
       "    <tr>\n",
       "      <th>3</th>\n",
       "      <td>web mình bị sao ý nhỉ</td>\n",
       "      <td>238</td>\n",
       "      <td>237</td>\n",
       "      <td>238.0</td>\n",
       "      <td>bạn có thể cho mình biết chức năng của web hos...</td>\n",
       "      <td>web mình bị sao ý nhỉ</td>\n",
       "      <td>sao tôi không tìm thấy cái email xác_thực nào ...</td>\n",
       "    </tr>\n",
       "    <tr>\n",
       "      <th>4</th>\n",
       "      <td>web mình bị sao ý nhỉ</td>\n",
       "      <td>238</td>\n",
       "      <td>237</td>\n",
       "      <td>238.0</td>\n",
       "      <td>web hosting là nơi diễn ra những giao dịch giữ...</td>\n",
       "      <td>web mình bị sao ý nhỉ</td>\n",
       "      <td>sao tôi không tìm thấy cái email xác_thực nào ...</td>\n",
       "    </tr>\n",
       "  </tbody>\n",
       "</table>\n",
       "</div>"
      ],
      "text/plain": [
       "            questionTest  true_label  predicted_label  compare  \\\n",
       "0  web mình bị sao ý nhỉ         238              237    238.0   \n",
       "1  web mình bị sao ý nhỉ         238              237    238.0   \n",
       "2  web mình bị sao ý nhỉ         238              237    238.0   \n",
       "3  web mình bị sao ý nhỉ         238              237    238.0   \n",
       "4  web mình bị sao ý nhỉ         238              237    238.0   \n",
       "\n",
       "                            Question_Train_Predicted transformer_questionTest  \\\n",
       "0         nếu không dùng web hosting có bị sao không    web mình bị sao ý nhỉ   \n",
       "1  mình có thể tìm  thêm thông tin về web hosting...    web mình bị sao ý nhỉ   \n",
       "2  web hosting có là nơi lưu trữ thông tin phải k...    web mình bị sao ý nhỉ   \n",
       "3  bạn có thể cho mình biết chức năng của web hos...    web mình bị sao ý nhỉ   \n",
       "4  web hosting là nơi diễn ra những giao dịch giữ...    web mình bị sao ý nhỉ   \n",
       "\n",
       "                  Transform_Question_Train_Predicted  \n",
       "0    tôi vào trang_web nó cứ quay_tít là thế_nào nhỉ  \n",
       "1                                   vào web chậm quá  \n",
       "2                        sao hôm_nay vào web lâu vậy  \n",
       "3  sao tôi không tìm thấy cái email xác_thực nào ...  \n",
       "4  sao tôi không tìm thấy cái email xác_thực nào ...  "
      ]
     },
     "execution_count": 45,
     "metadata": {},
     "output_type": "execute_result"
    }
   ],
   "source": [
    "# change to column name\n",
    "dataframe_predicted = dataframe_predicted.rename(columns={'Question_Train':'Question_Train_Predicted'})\n",
    "# add a new column\n",
    "dataframe_predicted['transformer_questionTest'] = dataframe_predicted['questionTest'].apply(lambda text: word_tokenize(text, format='text'))\n",
    "dataframe_predicted['Transform_Question_Train_Predicted'] = dataframe_true['Question_Train_True'].apply(lambda text: word_tokenize(text,format='text'))\n",
    "# save to file xlsx\n",
    "dataframe_predicted.to_excel('dataframe_predicted_SGD.xlsx')\n",
    "\n",
    "dataframe_predicted.head()"
   ]
  },
  {
   "cell_type": "code",
   "execution_count": null,
   "metadata": {},
   "outputs": [],
   "source": [
    "dataframe_predicted = dataframe_predicted.sort_values(by='true_label')\n",
    "dataframe_predicted.to_excel('dataframe_predictedSGD.xlsx')"
   ]
  },
  {
   "cell_type": "code",
   "execution_count": null,
   "metadata": {},
   "outputs": [],
   "source": [
    "dataframe_predicted.head()"
   ]
  },
  {
   "cell_type": "code",
   "execution_count": null,
   "metadata": {},
   "outputs": [],
   "source": [
    "target = data['target_enc'].isin(dataframe_true['true_label'])\n",
    "target_enc = data[target][['target','target_enc']]\n",
    "x = target_enc.target.unique()\n",
    "y = target_enc.target_enc.unique()\n",
    "target_true_label = pd.DataFrame({'target':x,'target_enc':y})\n",
    "target_true_label.to_excel('target_true_label.xlsx')\n",
    "xy.head()"
   ]
  },
  {
   "cell_type": "code",
   "execution_count": null,
   "metadata": {},
   "outputs": [],
   "source": [
    "target = data['target_enc'].isin(dataframe_true['predicted_label'])\n",
    "target_enc = data[target][['target','target_enc']]\n",
    "x = target_enc.target.unique()\n",
    "y = target_enc.target_enc.unique()\n",
    "target_predicted_label = pd.DataFrame({'target':x,'target_enc':y})\n",
    "\n",
    "xy.head()"
   ]
  },
  {
   "cell_type": "code",
   "execution_count": null,
   "metadata": {},
   "outputs": [],
   "source": [
    "target_true_label.head()"
   ]
  },
  {
   "cell_type": "code",
   "execution_count": null,
   "metadata": {},
   "outputs": [],
   "source": []
  },
  {
   "cell_type": "code",
   "execution_count": null,
   "metadata": {},
   "outputs": [],
   "source": []
  },
  {
   "cell_type": "code",
   "execution_count": null,
   "metadata": {},
   "outputs": [],
   "source": []
  }
 ],
 "metadata": {
  "kernelspec": {
   "display_name": "Python 3",
   "language": "python",
   "name": "python3"
  },
  "language_info": {
   "codemirror_mode": {
    "name": "ipython",
    "version": 3
   },
   "file_extension": ".py",
   "mimetype": "text/x-python",
   "name": "python",
   "nbconvert_exporter": "python",
   "pygments_lexer": "ipython3",
   "version": "3.7.1"
  }
 },
 "nbformat": 4,
 "nbformat_minor": 2
}
